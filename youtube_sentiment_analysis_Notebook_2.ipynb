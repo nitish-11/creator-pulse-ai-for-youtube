{
  "nbformat": 4,
  "nbformat_minor": 0,
  "metadata": {
    "colab": {
      "provenance": [],
      "gpuType": "T4",
      "toc_visible": true
    },
    "kernelspec": {
      "name": "python3",
      "display_name": "Python 3"
    },
    "language_info": {
      "name": "python"
    },
    "accelerator": "GPU"
  },
  "cells": [
    {
      "cell_type": "code",
      "execution_count": null,
      "metadata": {
        "id": "bhAZhVq8o5nx"
      },
      "outputs": [],
      "source": []
    },
    {
      "cell_type": "markdown",
      "source": [
        "### Loading the Clean Excel File"
      ],
      "metadata": {
        "id": "sVN6Y2Rqo-cj"
      }
    },
    {
      "cell_type": "code",
      "source": [
        "import pandas as pd\n",
        "import seaborn as sns\n",
        "import numpy as np"
      ],
      "metadata": {
        "id": "2q3Vju7LpBAj"
      },
      "execution_count": null,
      "outputs": []
    },
    {
      "cell_type": "code",
      "source": [
        "from google.colab import drive\n",
        "drive.mount('/content/drive')"
      ],
      "metadata": {
        "colab": {
          "base_uri": "https://localhost:8080/"
        },
        "id": "49xGR8uv2LBE",
        "outputId": "84e96319-38e6-42a2-81bb-f796d1d9659e"
      },
      "execution_count": null,
      "outputs": [
        {
          "output_type": "stream",
          "name": "stdout",
          "text": [
            "Drive already mounted at /content/drive; to attempt to forcibly remount, call drive.mount(\"/content/drive\", force_remount=True).\n"
          ]
        }
      ]
    },
    {
      "cell_type": "code",
      "source": [
        "df = pd.read_excel('/content/drive/MyDrive/youtube_sentiment_analysis/youtube_comments_english.xlsx')"
      ],
      "metadata": {
        "id": "8zsYN-kApKeL"
      },
      "execution_count": null,
      "outputs": []
    },
    {
      "cell_type": "code",
      "source": [
        "df.shape"
      ],
      "metadata": {
        "colab": {
          "base_uri": "https://localhost:8080/"
        },
        "id": "kE-axW604IYA",
        "outputId": "a4c8ee6c-bb63-4521-ac47-3a1d0aabb3d8"
      },
      "execution_count": null,
      "outputs": [
        {
          "output_type": "execute_result",
          "data": {
            "text/plain": [
              "(963063, 11)"
            ]
          },
          "metadata": {},
          "execution_count": 6
        }
      ]
    },
    {
      "cell_type": "markdown",
      "source": [
        "### Tokeniziation Process"
      ],
      "metadata": {
        "id": "VHvvW3o_b-j1"
      }
    },
    {
      "cell_type": "code",
      "source": [
        "import nltk\n",
        "nltk.download('punkt_tab')"
      ],
      "metadata": {
        "id": "3dD3_cRm4Ig4",
        "colab": {
          "base_uri": "https://localhost:8080/"
        },
        "outputId": "7b1f340e-b9f8-4af9-cd73-67bdcbe4e2a0"
      },
      "execution_count": null,
      "outputs": [
        {
          "output_type": "stream",
          "name": "stderr",
          "text": [
            "[nltk_data] Downloading package punkt_tab to /root/nltk_data...\n",
            "[nltk_data]   Package punkt_tab is already up-to-date!\n"
          ]
        },
        {
          "output_type": "execute_result",
          "data": {
            "text/plain": [
              "True"
            ]
          },
          "metadata": {},
          "execution_count": 7
        }
      ]
    },
    {
      "cell_type": "code",
      "source": [
        "from nltk.tokenize import sent_tokenize, word_tokenize\n",
        "\n",
        "text = \"Hello world. This is a test.\"\n",
        "print(sent_tokenize(text))\n"
      ],
      "metadata": {
        "colab": {
          "base_uri": "https://localhost:8080/"
        },
        "id": "mqkXQ_tnGEd0",
        "outputId": "f8c45ee8-c9ef-496a-f30f-a7339087907a"
      },
      "execution_count": null,
      "outputs": [
        {
          "output_type": "stream",
          "name": "stdout",
          "text": [
            "['Hello world.', 'This is a test.']\n"
          ]
        }
      ]
    },
    {
      "cell_type": "code",
      "source": [
        "from nltk import sent_tokenize, word_tokenize\n",
        "\n",
        "text = \"This video made me laugh_face_with_tears_of_joy\"\n",
        "tokens = word_tokenize(text)\n",
        "print(tokens)\n"
      ],
      "metadata": {
        "colab": {
          "base_uri": "https://localhost:8080/"
        },
        "id": "ww6SAU5iGXCP",
        "outputId": "8d5166df-c43e-4b72-cfc2-1e75306b0a47"
      },
      "execution_count": null,
      "outputs": [
        {
          "output_type": "stream",
          "name": "stdout",
          "text": [
            "['This', 'video', 'made', 'me', 'laugh_face_with_tears_of_joy']\n"
          ]
        }
      ]
    },
    {
      "cell_type": "code",
      "source": [
        "# Download all necessary NLTK data\n",
        "nltk.download(['stopwords', 'wordnet', 'omw-1.4'])"
      ],
      "metadata": {
        "colab": {
          "base_uri": "https://localhost:8080/"
        },
        "id": "VIRGxLuUFP3u",
        "outputId": "224d0136-ff31-4c66-ce12-674a6d2dc361"
      },
      "execution_count": null,
      "outputs": [
        {
          "output_type": "stream",
          "name": "stderr",
          "text": [
            "[nltk_data] Downloading package stopwords to /root/nltk_data...\n",
            "[nltk_data]   Package stopwords is already up-to-date!\n",
            "[nltk_data] Downloading package wordnet to /root/nltk_data...\n",
            "[nltk_data]   Package wordnet is already up-to-date!\n",
            "[nltk_data] Downloading package omw-1.4 to /root/nltk_data...\n",
            "[nltk_data]   Package omw-1.4 is already up-to-date!\n"
          ]
        },
        {
          "output_type": "execute_result",
          "data": {
            "text/plain": [
              "True"
            ]
          },
          "metadata": {},
          "execution_count": 10
        }
      ]
    },
    {
      "cell_type": "code",
      "source": [
        "pd.set_option('display.max_colwidth',None)"
      ],
      "metadata": {
        "id": "1T6VTyviJsfM"
      },
      "execution_count": null,
      "outputs": []
    },
    {
      "cell_type": "code",
      "source": [
        "df['CommentText'].sample(3)"
      ],
      "metadata": {
        "colab": {
          "base_uri": "https://localhost:8080/",
          "height": 178
        },
        "id": "_4bX6bBlJpdb",
        "outputId": "ffa97ce9-5d88-42e7-ee00-1c3edefb2df3"
      },
      "execution_count": null,
      "outputs": [
        {
          "output_type": "execute_result",
          "data": {
            "text/plain": [
              "904715                she seems like a genuine and caring person i wish her all the best!\n",
              "490546    im gonna starting seo first project, how to check my website ranking currently?\n",
              "49659                        you should totally add me on roblox, the new limit is <NUM>k\n",
              "Name: CommentText, dtype: object"
            ],
            "text/html": [
              "<div>\n",
              "<style scoped>\n",
              "    .dataframe tbody tr th:only-of-type {\n",
              "        vertical-align: middle;\n",
              "    }\n",
              "\n",
              "    .dataframe tbody tr th {\n",
              "        vertical-align: top;\n",
              "    }\n",
              "\n",
              "    .dataframe thead th {\n",
              "        text-align: right;\n",
              "    }\n",
              "</style>\n",
              "<table border=\"1\" class=\"dataframe\">\n",
              "  <thead>\n",
              "    <tr style=\"text-align: right;\">\n",
              "      <th></th>\n",
              "      <th>CommentText</th>\n",
              "    </tr>\n",
              "  </thead>\n",
              "  <tbody>\n",
              "    <tr>\n",
              "      <th>904715</th>\n",
              "      <td>she seems like a genuine and caring person i wish her all the best!</td>\n",
              "    </tr>\n",
              "    <tr>\n",
              "      <th>490546</th>\n",
              "      <td>im gonna starting seo first project, how to check my website ranking currently?</td>\n",
              "    </tr>\n",
              "    <tr>\n",
              "      <th>49659</th>\n",
              "      <td>you should totally add me on roblox, the new limit is &lt;NUM&gt;k</td>\n",
              "    </tr>\n",
              "  </tbody>\n",
              "</table>\n",
              "</div><br><label><b>dtype:</b> object</label>"
            ]
          },
          "metadata": {},
          "execution_count": 58
        }
      ]
    },
    {
      "cell_type": "code",
      "source": [
        "from nltk.tokenize import word_tokenize\n",
        "from nltk.corpus import stopwords\n",
        "from nltk.stem import WordNetLemmatizer\n",
        "import string\n",
        "\n",
        "# Initialize tools\n",
        "stop_words = set(stopwords.words('english')) - {'not', 'but', 'however', 'no', 'yet', 'your', 'you'}\n",
        "lemmatizer = WordNetLemmatizer()\n",
        "\n",
        "def preprocess_text(text):\n",
        "    \"\"\"Full text preprocessing pipeline\"\"\"\n",
        "    # 1. Lowercase\n",
        "    text = text.lower()\n",
        "    print(text)\n",
        "\n",
        "    # 2. Remove punctuation (keep only !?:; and _)\n",
        "    # Step 1: Identify punctuation to remove (all punctuation except what we want to keep)\n",
        "    all_punct = set(string.punctuation)  # All punctuation marks\n",
        "    keep_punct = {'!', '?', ':', ';', '_'}  # Punctuation we want to preserve\n",
        "    remove_punct = all_punct - keep_punct  # Punctuation to remove\n",
        "\n",
        "    # Step 2: Create translation table (maps each punctuation to None for removal)\n",
        "    punct_map = {ord(char): None for char in remove_punct}\n",
        "\n",
        "    # Step 3: Apply translation\n",
        "    text = text.translate(punct_map)\n",
        "\n",
        "    # 3. Tokenization\n",
        "    tokens = word_tokenize(text)\n",
        "    print(tokens)\n",
        "\n",
        "    # 4. Remove stopwords\n",
        "    tokens = [word for word in tokens if word not in stop_words]\n",
        "    print(tokens)\n",
        "\n",
        "    # 5. Lemmatization (preserve special tokens)\n",
        "    tokens = [lemmatizer.lemmatize(word, pos='v') if '_' not in word else word\n",
        "              for word in tokens]\n",
        "\n",
        "    print(tokens)\n",
        "\n",
        "    # # 6. Filter tokens\n",
        "    # tokens = [word for word in tokens if len(word) > 2 or '_' in word]\n",
        "    print(tokens)\n",
        "    return tokens\n"
      ],
      "metadata": {
        "id": "5w1i5MQqGrx4"
      },
      "execution_count": null,
      "outputs": []
    },
    {
      "cell_type": "code",
      "source": [
        "text = \"im gonna starting; seo first! project, how to check my website ranking currently?\"\n",
        "\n",
        "preprocess_text(text)"
      ],
      "metadata": {
        "colab": {
          "base_uri": "https://localhost:8080/"
        },
        "id": "ye1Ge7C3LqQC",
        "outputId": "bb6fcf57-f01f-453c-8fba-ddf83e92c787"
      },
      "execution_count": null,
      "outputs": [
        {
          "output_type": "stream",
          "name": "stdout",
          "text": [
            "im gonna starting; seo first! project, how to check my website ranking currently?\n",
            "['im', 'gon', 'na', 'starting', ';', 'seo', 'first', '!', 'project', 'how', 'to', 'check', 'my', 'website', 'ranking', 'currently', '?']\n",
            "['im', 'gon', 'na', 'starting', ';', 'seo', 'first', '!', 'project', 'check', 'website', 'ranking', 'currently', '?']\n",
            "['im', 'gon', 'na', 'start', ';', 'seo', 'first', '!', 'project', 'check', 'website', 'rank', 'currently', '?']\n",
            "['im', 'gon', 'na', 'start', ';', 'seo', 'first', '!', 'project', 'check', 'website', 'rank', 'currently', '?']\n"
          ]
        },
        {
          "output_type": "execute_result",
          "data": {
            "text/plain": [
              "['im',\n",
              " 'gon',\n",
              " 'na',\n",
              " 'start',\n",
              " ';',\n",
              " 'seo',\n",
              " 'first',\n",
              " '!',\n",
              " 'project',\n",
              " 'check',\n",
              " 'website',\n",
              " 'rank',\n",
              " 'currently',\n",
              " '?']"
            ]
          },
          "metadata": {},
          "execution_count": 66
        }
      ]
    },
    {
      "cell_type": "code",
      "source": [
        "# Test the function\n",
        "text = \"in python: im getting an error that says 'python' is not recognized as a command, function, script, or executable program. ive checked the spelling, and the path, what should i do? the error is occurring at line <NUM>, character <NUM>. it says commandnotfoundexception and objectnotfound.\"\n",
        "preprocess_text(text)  # Correct function call"
      ],
      "metadata": {
        "colab": {
          "base_uri": "https://localhost:8080/"
        },
        "id": "z2_VzGLaJ7J9",
        "outputId": "e98dc12d-9c5f-4f54-b3ac-b846b696147b"
      },
      "execution_count": null,
      "outputs": [
        {
          "output_type": "stream",
          "name": "stdout",
          "text": [
            "in python: im getting an error that says 'python' is not recognized as a command, function, script, or executable program. ive checked the spelling, and the path, what should i do? the error is occurring at line <num>, character <num>. it says commandnotfoundexception and objectnotfound.\n",
            "['in', 'python', ':', 'im', 'getting', 'an', 'error', 'that', 'says', 'python', 'is', 'not', 'recognized', 'as', 'a', 'command', 'function', 'script', 'or', 'executable', 'program', 'ive', 'checked', 'the', 'spelling', 'and', 'the', 'path', 'what', 'should', 'i', 'do', '?', 'the', 'error', 'is', 'occurring', 'at', 'line', 'num', 'character', 'num', 'it', 'says', 'commandnotfoundexception', 'and', 'objectnotfound']\n",
            "['python', ':', 'im', 'getting', 'error', 'says', 'python', 'not', 'recognized', 'command', 'function', 'script', 'executable', 'program', 'ive', 'checked', 'spelling', 'path', '?', 'error', 'occurring', 'line', 'num', 'character', 'num', 'says', 'commandnotfoundexception', 'objectnotfound']\n",
            "['python', ':', 'im', 'get', 'error', 'say', 'python', 'not', 'recognize', 'command', 'function', 'script', 'executable', 'program', 'ive', 'check', 'spell', 'path', '?', 'error', 'occur', 'line', 'num', 'character', 'num', 'say', 'commandnotfoundexception', 'objectnotfound']\n",
            "['python', ':', 'im', 'get', 'error', 'say', 'python', 'not', 'recognize', 'command', 'function', 'script', 'executable', 'program', 'ive', 'check', 'spell', 'path', '?', 'error', 'occur', 'line', 'num', 'character', 'num', 'say', 'commandnotfoundexception', 'objectnotfound']\n"
          ]
        },
        {
          "output_type": "execute_result",
          "data": {
            "text/plain": [
              "['python',\n",
              " ':',\n",
              " 'im',\n",
              " 'get',\n",
              " 'error',\n",
              " 'say',\n",
              " 'python',\n",
              " 'not',\n",
              " 'recognize',\n",
              " 'command',\n",
              " 'function',\n",
              " 'script',\n",
              " 'executable',\n",
              " 'program',\n",
              " 'ive',\n",
              " 'check',\n",
              " 'spell',\n",
              " 'path',\n",
              " '?',\n",
              " 'error',\n",
              " 'occur',\n",
              " 'line',\n",
              " 'num',\n",
              " 'character',\n",
              " 'num',\n",
              " 'say',\n",
              " 'commandnotfoundexception',\n",
              " 'objectnotfound']"
            ]
          },
          "metadata": {},
          "execution_count": 67
        }
      ]
    },
    {
      "cell_type": "code",
      "source": [
        "# Test with emoji text\n",
        "test_text = \"This video is hilarious laugh_face_with_tears_of_joy! Really loved it.\"\n",
        "print(preprocess_text(test_text))"
      ],
      "metadata": {
        "colab": {
          "base_uri": "https://localhost:8080/"
        },
        "id": "TDJCNOyAKouR",
        "outputId": "7f49b9f0-b25a-457c-ec3d-e8e539586bd3"
      },
      "execution_count": null,
      "outputs": [
        {
          "output_type": "stream",
          "name": "stdout",
          "text": [
            "this video is hilarious laugh_face_with_tears_of_joy! really loved it.\n",
            "['this', 'video', 'is', 'hilarious', 'laugh_face_with_tears_of_joy', '!', 'really', 'loved', 'it']\n",
            "['video', 'hilarious', 'laugh_face_with_tears_of_joy', '!', 'really', 'loved']\n",
            "['video', 'hilarious', 'laugh_face_with_tears_of_joy', '!', 'really', 'love']\n",
            "['video', 'hilarious', 'laugh_face_with_tears_of_joy', '!', 'really', 'love']\n",
            "['video', 'hilarious', 'laugh_face_with_tears_of_joy', '!', 'really', 'love']\n"
          ]
        }
      ]
    },
    {
      "cell_type": "code",
      "source": [],
      "metadata": {
        "id": "7FEDoDKjNS_6"
      },
      "execution_count": null,
      "outputs": []
    },
    {
      "cell_type": "code",
      "source": [
        "# Apply to your DataFrame\n",
        "df['tokens'] = df['CommentText'].apply(preprocess_text)"
      ],
      "metadata": {
        "id": "JOPnJbJCJ_ls"
      },
      "execution_count": null,
      "outputs": []
    },
    {
      "cell_type": "code",
      "source": [],
      "metadata": {
        "id": "09TGSZ7PNyOF"
      },
      "execution_count": null,
      "outputs": []
    },
    {
      "cell_type": "code",
      "source": [],
      "metadata": {
        "id": "yqSoThpXNyYF"
      },
      "execution_count": null,
      "outputs": []
    },
    {
      "cell_type": "markdown",
      "source": [
        "### Bag of words Technique"
      ],
      "metadata": {
        "id": "qK1pPDQDNyrV"
      }
    },
    {
      "cell_type": "code",
      "source": [
        "from sklearn.feature_extraction.text import CountVectorizer"
      ],
      "metadata": {
        "id": "4NoJQdBJJPvX"
      },
      "execution_count": null,
      "outputs": []
    },
    {
      "cell_type": "code",
      "source": [
        "df['Sentiment'] = df['Sentiment'].map({\n",
        "    'Neutral': 0,\n",
        "    'Positive':1,\n",
        "    'Negative':-1\n",
        "})"
      ],
      "metadata": {
        "id": "BP9YufhOOwo7"
      },
      "execution_count": null,
      "outputs": []
    },
    {
      "cell_type": "code",
      "source": [
        "df.shape"
      ],
      "metadata": {
        "colab": {
          "base_uri": "https://localhost:8080/"
        },
        "id": "FFK_znanPd84",
        "outputId": "777652de-3c9e-422a-8876-f944435c5e47"
      },
      "execution_count": null,
      "outputs": [
        {
          "output_type": "execute_result",
          "data": {
            "text/plain": [
              "(963063, 11)"
            ]
          },
          "metadata": {},
          "execution_count": 14
        }
      ]
    },
    {
      "cell_type": "code",
      "source": [
        "# Drop rows where either 'CommentText' or 'Sentiment' is NaN\n",
        "df = df.dropna(subset=['CommentText', 'Sentiment'])"
      ],
      "metadata": {
        "id": "yJ8Xg3p9Pchx"
      },
      "execution_count": null,
      "outputs": []
    },
    {
      "cell_type": "code",
      "source": [
        "df.shape"
      ],
      "metadata": {
        "colab": {
          "base_uri": "https://localhost:8080/"
        },
        "id": "Owmah-OfPgD5",
        "outputId": "0c841455-aedc-4aab-d843-84031992c997"
      },
      "execution_count": null,
      "outputs": [
        {
          "output_type": "execute_result",
          "data": {
            "text/plain": [
              "(963055, 11)"
            ]
          },
          "metadata": {},
          "execution_count": 16
        }
      ]
    },
    {
      "cell_type": "code",
      "source": [
        "# Step 1: Vectorize the comments using Bag of Words (CountVectorizer)\n",
        "vectorizer = CountVectorizer(max_features=5000, binary=True)  # Bag of Words model with a limit of 10000 features"
      ],
      "metadata": {
        "id": "p6oOmprwJQFv"
      },
      "execution_count": null,
      "outputs": []
    },
    {
      "cell_type": "code",
      "source": [
        "X_sparse = vectorizer.fit_transform(df['CommentText'])\n",
        "y = df['Sentiment']"
      ],
      "metadata": {
        "id": "TRhPOR8XJQIy"
      },
      "execution_count": null,
      "outputs": []
    },
    {
      "cell_type": "code",
      "source": [
        "print(f\"Shape: {X_sparse.shape}\")        # (num_comments, num_features)\n",
        "print(f\"Non-zero entries: {X_sparse.nnz}\")  # Count of non-zero values\n",
        "print(f\"Density: {100 * X_sparse.nnz / (X_sparse.shape[0] * X_sparse.shape[1]):.4f}%\")  # % non-zero"
      ],
      "metadata": {
        "colab": {
          "base_uri": "https://localhost:8080/"
        },
        "id": "2hpC2UDCJQLv",
        "outputId": "08bbbe7b-7d03-4165-fa68-29019b0cbddb"
      },
      "execution_count": null,
      "outputs": [
        {
          "output_type": "stream",
          "name": "stdout",
          "text": [
            "Shape: (963055, 5000)\n",
            "Non-zero entries: 13858103\n",
            "Density: 0.2878%\n"
          ]
        }
      ]
    },
    {
      "cell_type": "code",
      "source": [
        "import matplotlib.pyplot as plt\n",
        "plt.spy(X_sparse[:100], markersize=0.1)  # Plot first 100 comments\n",
        "plt.xlabel(\"Feature (Word) Index\")\n",
        "plt.ylabel(\"Comment Index\")\n",
        "plt.title(\"Sparsity Pattern (Black = Non-Zero)\")\n",
        "plt.show()"
      ],
      "metadata": {
        "colab": {
          "base_uri": "https://localhost:8080/",
          "height": 117
        },
        "id": "CyZ177s8R3Kx",
        "outputId": "1176be26-b367-42e8-e068-5a4d13a408af"
      },
      "execution_count": null,
      "outputs": [
        {
          "output_type": "display_data",
          "data": {
            "text/plain": [
              "<Figure size 640x480 with 1 Axes>"
            ],
            "image/png": "[encoded data removed]"
          },
          "metadata": {}
        }
      ]
    },
    {
      "cell_type": "code",
      "source": [
        "# Get feature names (words) corresponding to columns\n",
        "feature_names = vectorizer.get_feature_names_out()\n",
        "\n",
        "# Sum word counts across all comments\n",
        "word_counts = np.array(X_sparse.sum(axis=0)).flatten()\n",
        "top_words_idx = np.argsort(word_counts)[-10:]  # Indices of top 10 words\n",
        "\n",
        "print(\"Top 10 Words:\")\n",
        "for idx in reversed(top_words_idx):  # Print descending\n",
        "    print(f\"{feature_names[idx]}: {word_counts[idx]}\")"
      ],
      "metadata": {
        "colab": {
          "base_uri": "https://localhost:8080/"
        },
        "id": "S7WaEmCZSEGK",
        "outputId": "e34d3c01-089f-4ebf-8d30-aa705eb6ee9f"
      },
      "execution_count": null,
      "outputs": [
        {
          "output_type": "stream",
          "name": "stdout",
          "text": [
            "Top 10 Words:\n",
            "the: 382364\n",
            "to: 280246\n",
            "and: 243075\n",
            "is: 241270\n",
            "you: 189046\n",
            "of: 185392\n",
            "this: 180021\n",
            "in: 179008\n",
            "for: 168971\n",
            "it: 157925\n"
          ]
        }
      ]
    },
    {
      "cell_type": "code",
      "source": [
        "y"
      ],
      "metadata": {
        "colab": {
          "base_uri": "https://localhost:8080/",
          "height": 458
        },
        "id": "WwVyvc3VI-h3",
        "outputId": "a298085e-2a89-49ad-d882-05bdb70ebedb"
      },
      "execution_count": null,
      "outputs": [
        {
          "output_type": "execute_result",
          "data": {
            "text/plain": [
              "0         0\n",
              "1         1\n",
              "2         0\n",
              "3         0\n",
              "4         1\n",
              "         ..\n",
              "963058    0\n",
              "963059    1\n",
              "963060   -1\n",
              "963061    0\n",
              "963062    0\n",
              "Name: Sentiment, Length: 963055, dtype: int64"
            ],
            "text/html": [
              "<div>\n",
              "<style scoped>\n",
              "    .dataframe tbody tr th:only-of-type {\n",
              "        vertical-align: middle;\n",
              "    }\n",
              "\n",
              "    .dataframe tbody tr th {\n",
              "        vertical-align: top;\n",
              "    }\n",
              "\n",
              "    .dataframe thead th {\n",
              "        text-align: right;\n",
              "    }\n",
              "</style>\n",
              "<table border=\"1\" class=\"dataframe\">\n",
              "  <thead>\n",
              "    <tr style=\"text-align: right;\">\n",
              "      <th></th>\n",
              "      <th>Sentiment</th>\n",
              "    </tr>\n",
              "  </thead>\n",
              "  <tbody>\n",
              "    <tr>\n",
              "      <th>0</th>\n",
              "      <td>0</td>\n",
              "    </tr>\n",
              "    <tr>\n",
              "      <th>1</th>\n",
              "      <td>1</td>\n",
              "    </tr>\n",
              "    <tr>\n",
              "      <th>2</th>\n",
              "      <td>0</td>\n",
              "    </tr>\n",
              "    <tr>\n",
              "      <th>3</th>\n",
              "      <td>0</td>\n",
              "    </tr>\n",
              "    <tr>\n",
              "      <th>4</th>\n",
              "      <td>1</td>\n",
              "    </tr>\n",
              "    <tr>\n",
              "      <th>...</th>\n",
              "      <td>...</td>\n",
              "    </tr>\n",
              "    <tr>\n",
              "      <th>963058</th>\n",
              "      <td>0</td>\n",
              "    </tr>\n",
              "    <tr>\n",
              "      <th>963059</th>\n",
              "      <td>1</td>\n",
              "    </tr>\n",
              "    <tr>\n",
              "      <th>963060</th>\n",
              "      <td>-1</td>\n",
              "    </tr>\n",
              "    <tr>\n",
              "      <th>963061</th>\n",
              "      <td>0</td>\n",
              "    </tr>\n",
              "    <tr>\n",
              "      <th>963062</th>\n",
              "      <td>0</td>\n",
              "    </tr>\n",
              "  </tbody>\n",
              "</table>\n",
              "<p>963055 rows × 1 columns</p>\n",
              "</div><br><label><b>dtype:</b> int64</label>"
            ]
          },
          "metadata": {},
          "execution_count": 26
        }
      ]
    },
    {
      "cell_type": "code",
      "source": [
        "df['Sentiment'].value_counts(1)"
      ],
      "metadata": {
        "colab": {
          "base_uri": "https://localhost:8080/",
          "height": 209
        },
        "id": "lPkr5BYySX3D",
        "outputId": "b7016a00-6adb-4545-f20f-381395ffb544"
      },
      "execution_count": null,
      "outputs": [
        {
          "output_type": "execute_result",
          "data": {
            "text/plain": [
              "Sentiment\n",
              " 1    0.338984\n",
              "-1    0.338444\n",
              " 0    0.322572\n",
              "Name: proportion, dtype: float64"
            ],
            "text/html": [
              "<div>\n",
              "<style scoped>\n",
              "    .dataframe tbody tr th:only-of-type {\n",
              "        vertical-align: middle;\n",
              "    }\n",
              "\n",
              "    .dataframe tbody tr th {\n",
              "        vertical-align: top;\n",
              "    }\n",
              "\n",
              "    .dataframe thead th {\n",
              "        text-align: right;\n",
              "    }\n",
              "</style>\n",
              "<table border=\"1\" class=\"dataframe\">\n",
              "  <thead>\n",
              "    <tr style=\"text-align: right;\">\n",
              "      <th></th>\n",
              "      <th>proportion</th>\n",
              "    </tr>\n",
              "    <tr>\n",
              "      <th>Sentiment</th>\n",
              "      <th></th>\n",
              "    </tr>\n",
              "  </thead>\n",
              "  <tbody>\n",
              "    <tr>\n",
              "      <th>1</th>\n",
              "      <td>0.338984</td>\n",
              "    </tr>\n",
              "    <tr>\n",
              "      <th>-1</th>\n",
              "      <td>0.338444</td>\n",
              "    </tr>\n",
              "    <tr>\n",
              "      <th>0</th>\n",
              "      <td>0.322572</td>\n",
              "    </tr>\n",
              "  </tbody>\n",
              "</table>\n",
              "</div><br><label><b>dtype:</b> float64</label>"
            ]
          },
          "metadata": {},
          "execution_count": 33
        }
      ]
    },
    {
      "cell_type": "code",
      "source": [
        "from sklearn.model_selection import train_test_split, cross_val_predict, StratifiedKFold\n",
        "X_train, X_test, y_train, y_test = train_test_split(X_sparse, y, test_size=0.2, random_state=42, stratify=y)"
      ],
      "metadata": {
        "id": "LpTg1yAZSX6D"
      },
      "execution_count": null,
      "outputs": []
    },
    {
      "cell_type": "code",
      "source": [],
      "metadata": {
        "colab": {
          "base_uri": "https://localhost:8080/"
        },
        "id": "CbIDZepsSX9E",
        "outputId": "9b98946d-50fb-44d9-8afb-b26a81c29af1"
      },
      "execution_count": null,
      "outputs": [
        {
          "output_type": "execute_result",
          "data": {
            "text/plain": [
              "<Compressed Sparse Row sparse matrix of dtype 'int64'\n",
              "\twith 11086885 stored elements and shape (770444, 5000)>"
            ]
          },
          "metadata": {},
          "execution_count": 36
        }
      ]
    },
    {
      "cell_type": "code",
      "source": [],
      "metadata": {
        "id": "-JCi_5SYS29f"
      },
      "execution_count": null,
      "outputs": []
    },
    {
      "cell_type": "markdown",
      "source": [
        "##### Random Forest Model Training"
      ],
      "metadata": {
        "id": "7nnZ-QFTS3qv"
      }
    },
    {
      "cell_type": "code",
      "source": [
        "# Log Random Forest parameters\n",
        "n_estimators = 200\n",
        "max_depth = 15"
      ],
      "metadata": {
        "id": "wq5LX7vGS3Dv"
      },
      "execution_count": null,
      "outputs": []
    },
    {
      "cell_type": "code",
      "source": [
        "from sklearn.ensemble import RandomForestClassifier\n",
        "model = RandomForestClassifier(n_estimators=n_estimators, max_depth=max_depth, random_state=42)\n",
        "model.fit(X_train, y_train)"
      ],
      "metadata": {
        "colab": {
          "base_uri": "https://localhost:8080/",
          "height": 57
        },
        "id": "Nk_XXdG6TCEw",
        "outputId": "4b4a60c2-8058-4346-bc48-bfe5c8f9de8f"
      },
      "execution_count": null,
      "outputs": [
        {
          "output_type": "execute_result",
          "data": {
            "text/plain": [
              "RandomForestClassifier(max_depth=15, n_estimators=200, random_state=42)"
            ],
            "text/html": [
              "<style>#sk-container-id-1 {\n",
              "  /* Definition of color scheme common for light and dark mode */\n",
              "  --sklearn-color-text: #000;\n",
              "  --sklearn-color-text-muted: #666;\n",
              "  --sklearn-color-line: gray;\n",
              "  /* Definition of color scheme for unfitted estimators */\n",
              "  --sklearn-color-unfitted-level-0: #fff5e6;\n",
              "  --sklearn-color-unfitted-level-1: #f6e4d2;\n",
              "  --sklearn-color-unfitted-level-2: #ffe0b3;\n",
              "  --sklearn-color-unfitted-level-3: chocolate;\n",
              "  /* Definition of color scheme for fitted estimators */\n",
              "  --sklearn-color-fitted-level-0: #f0f8ff;\n",
              "  --sklearn-color-fitted-level-1: #d4ebff;\n",
              "  --sklearn-color-fitted-level-2: #b3dbfd;\n",
              "  --sklearn-color-fitted-level-3: cornflowerblue;\n",
              "\n",
              "  /* Specific color for light theme */\n",
              "  --sklearn-color-text-on-default-background: var(--sg-text-color, var(--theme-code-foreground, var(--jp-content-font-color1, black)));\n",
              "  --sklearn-color-background: var(--sg-background-color, var(--theme-background, var(--jp-layout-color0, white)));\n",
              "  --sklearn-color-border-box: var(--sg-text-color, var(--theme-code-foreground, var(--jp-content-font-color1, black)));\n",
              "  --sklearn-color-icon: #696969;\n",
              "\n",
              "  @media (prefers-color-scheme: dark) {\n",
              "    /* Redefinition of color scheme for dark theme */\n",
              "    --sklearn-color-text-on-default-background: var(--sg-text-color, var(--theme-code-foreground, var(--jp-content-font-color1, white)));\n",
              "    --sklearn-color-background: var(--sg-background-color, var(--theme-background, var(--jp-layout-color0, #111)));\n",
              "    --sklearn-color-border-box: var(--sg-text-color, var(--theme-code-foreground, var(--jp-content-font-color1, white)));\n",
              "    --sklearn-color-icon: #878787;\n",
              "  }\n",
              "}\n",
              "\n",
              "#sk-container-id-1 {\n",
              "  color: var(--sklearn-color-text);\n",
              "}\n",
              "\n",
              "#sk-container-id-1 pre {\n",
              "  padding: 0;\n",
              "}\n",
              "\n",
              "#sk-container-id-1 input.sk-hidden--visually {\n",
              "  border: 0;\n",
              "  clip: rect(1px 1px 1px 1px);\n",
              "  clip: rect(1px, 1px, 1px, 1px);\n",
              "  height: 1px;\n",
              "  margin: -1px;\n",
              "  overflow: hidden;\n",
              "  padding: 0;\n",
              "  position: absolute;\n",
              "  width: 1px;\n",
              "}\n",
              "\n",
              "#sk-container-id-1 div.sk-dashed-wrapped {\n",
              "  border: 1px dashed var(--sklearn-color-line);\n",
              "  margin: 0 0.4em 0.5em 0.4em;\n",
              "  box-sizing: border-box;\n",
              "  padding-bottom: 0.4em;\n",
              "  background-color: var(--sklearn-color-background);\n",
              "}\n",
              "\n",
              "#sk-container-id-1 div.sk-container {\n",
              "  /* jupyter's `normalize.less` sets `[hidden] { display: none; }`\n",
              "     but bootstrap.min.css set `[hidden] { display: none !important; }`\n",
              "     so we also need the `!important` here to be able to override the\n",
              "     default hidden behavior on the sphinx rendered scikit-learn.org.\n",
              "     See: https://github.com/scikit-learn/scikit-learn/issues/21755 */\n",
              "  display: inline-block !important;\n",
              "  position: relative;\n",
              "}\n",
              "\n",
              "#sk-container-id-1 div.sk-text-repr-fallback {\n",
              "  display: none;\n",
              "}\n",
              "\n",
              "div.sk-parallel-item,\n",
              "div.sk-serial,\n",
              "div.sk-item {\n",
              "  /* draw centered vertical line to link estimators */\n",
              "  background-image: linear-gradient(var(--sklearn-color-text-on-default-background), var(--sklearn-color-text-on-default-background));\n",
              "  background-size: 2px 100%;\n",
              "  background-repeat: no-repeat;\n",
              "  background-position: center center;\n",
              "}\n",
              "\n",
              "/* Parallel-specific style estimator block */\n",
              "\n",
              "#sk-container-id-1 div.sk-parallel-item::after {\n",
              "  content: \"\";\n",
              "  width: 100%;\n",
              "  border-bottom: 2px solid var(--sklearn-color-text-on-default-background);\n",
              "  flex-grow: 1;\n",
              "}\n",
              "\n",
              "#sk-container-id-1 div.sk-parallel {\n",
              "  display: flex;\n",
              "  align-items: stretch;\n",
              "  justify-content: center;\n",
              "  background-color: var(--sklearn-color-background);\n",
              "  position: relative;\n",
              "}\n",
              "\n",
              "#sk-container-id-1 div.sk-parallel-item {\n",
              "  display: flex;\n",
              "  flex-direction: column;\n",
              "}\n",
              "\n",
              "#sk-container-id-1 div.sk-parallel-item:first-child::after {\n",
              "  align-self: flex-end;\n",
              "  width: 50%;\n",
              "}\n",
              "\n",
              "#sk-container-id-1 div.sk-parallel-item:last-child::after {\n",
              "  align-self: flex-start;\n",
              "  width: 50%;\n",
              "}\n",
              "\n",
              "#sk-container-id-1 div.sk-parallel-item:only-child::after {\n",
              "  width: 0;\n",
              "}\n",
              "\n",
              "/* Serial-specific style estimator block */\n",
              "\n",
              "#sk-container-id-1 div.sk-serial {\n",
              "  display: flex;\n",
              "  flex-direction: column;\n",
              "  align-items: center;\n",
              "  background-color: var(--sklearn-color-background);\n",
              "  padding-right: 1em;\n",
              "  padding-left: 1em;\n",
              "}\n",
              "\n",
              "\n",
              "/* Toggleable style: style used for estimator/Pipeline/ColumnTransformer box that is\n",
              "clickable and can be expanded/collapsed.\n",
              "- Pipeline and ColumnTransformer use this feature and define the default style\n",
              "- Estimators will overwrite some part of the style using the `sk-estimator` class\n",
              "*/\n",
              "\n",
              "/* Pipeline and ColumnTransformer style (default) */\n",
              "\n",
              "#sk-container-id-1 div.sk-toggleable {\n",
              "  /* Default theme specific background. It is overwritten whether we have a\n",
              "  specific estimator or a Pipeline/ColumnTransformer */\n",
              "  background-color: var(--sklearn-color-background);\n",
              "}\n",
              "\n",
              "/* Toggleable label */\n",
              "#sk-container-id-1 label.sk-toggleable__label {\n",
              "  cursor: pointer;\n",
              "  display: flex;\n",
              "  width: 100%;\n",
              "  margin-bottom: 0;\n",
              "  padding: 0.5em;\n",
              "  box-sizing: border-box;\n",
              "  text-align: center;\n",
              "  align-items: start;\n",
              "  justify-content: space-between;\n",
              "  gap: 0.5em;\n",
              "}\n",
              "\n",
              "#sk-container-id-1 label.sk-toggleable__label .caption {\n",
              "  font-size: 0.6rem;\n",
              "  font-weight: lighter;\n",
              "  color: var(--sklearn-color-text-muted);\n",
              "}\n",
              "\n",
              "#sk-container-id-1 label.sk-toggleable__label-arrow:before {\n",
              "  /* Arrow on the left of the label */\n",
              "  content: \"▸\";\n",
              "  float: left;\n",
              "  margin-right: 0.25em;\n",
              "  color: var(--sklearn-color-icon);\n",
              "}\n",
              "\n",
              "#sk-container-id-1 label.sk-toggleable__label-arrow:hover:before {\n",
              "  color: var(--sklearn-color-text);\n",
              "}\n",
              "\n",
              "/* Toggleable content - dropdown */\n",
              "\n",
              "#sk-container-id-1 div.sk-toggleable__content {\n",
              "  max-height: 0;\n",
              "  max-width: 0;\n",
              "  overflow: hidden;\n",
              "  text-align: left;\n",
              "  /* unfitted */\n",
              "  background-color: var(--sklearn-color-unfitted-level-0);\n",
              "}\n",
              "\n",
              "#sk-container-id-1 div.sk-toggleable__content.fitted {\n",
              "  /* fitted */\n",
              "  background-color: var(--sklearn-color-fitted-level-0);\n",
              "}\n",
              "\n",
              "#sk-container-id-1 div.sk-toggleable__content pre {\n",
              "  margin: 0.2em;\n",
              "  border-radius: 0.25em;\n",
              "  color: var(--sklearn-color-text);\n",
              "  /* unfitted */\n",
              "  background-color: var(--sklearn-color-unfitted-level-0);\n",
              "}\n",
              "\n",
              "#sk-container-id-1 div.sk-toggleable__content.fitted pre {\n",
              "  /* unfitted */\n",
              "  background-color: var(--sklearn-color-fitted-level-0);\n",
              "}\n",
              "\n",
              "#sk-container-id-1 input.sk-toggleable__control:checked~div.sk-toggleable__content {\n",
              "  /* Expand drop-down */\n",
              "  max-height: 200px;\n",
              "  max-width: 100%;\n",
              "  overflow: auto;\n",
              "}\n",
              "\n",
              "#sk-container-id-1 input.sk-toggleable__control:checked~label.sk-toggleable__label-arrow:before {\n",
              "  content: \"▾\";\n",
              "}\n",
              "\n",
              "/* Pipeline/ColumnTransformer-specific style */\n",
              "\n",
              "#sk-container-id-1 div.sk-label input.sk-toggleable__control:checked~label.sk-toggleable__label {\n",
              "  color: var(--sklearn-color-text);\n",
              "  background-color: var(--sklearn-color-unfitted-level-2);\n",
              "}\n",
              "\n",
              "#sk-container-id-1 div.sk-label.fitted input.sk-toggleable__control:checked~label.sk-toggleable__label {\n",
              "  background-color: var(--sklearn-color-fitted-level-2);\n",
              "}\n",
              "\n",
              "/* Estimator-specific style */\n",
              "\n",
              "/* Colorize estimator box */\n",
              "#sk-container-id-1 div.sk-estimator input.sk-toggleable__control:checked~label.sk-toggleable__label {\n",
              "  /* unfitted */\n",
              "  background-color: var(--sklearn-color-unfitted-level-2);\n",
              "}\n",
              "\n",
              "#sk-container-id-1 div.sk-estimator.fitted input.sk-toggleable__control:checked~label.sk-toggleable__label {\n",
              "  /* fitted */\n",
              "  background-color: var(--sklearn-color-fitted-level-2);\n",
              "}\n",
              "\n",
              "#sk-container-id-1 div.sk-label label.sk-toggleable__label,\n",
              "#sk-container-id-1 div.sk-label label {\n",
              "  /* The background is the default theme color */\n",
              "  color: var(--sklearn-color-text-on-default-background);\n",
              "}\n",
              "\n",
              "/* On hover, darken the color of the background */\n",
              "#sk-container-id-1 div.sk-label:hover label.sk-toggleable__label {\n",
              "  color: var(--sklearn-color-text);\n",
              "  background-color: var(--sklearn-color-unfitted-level-2);\n",
              "}\n",
              "\n",
              "/* Label box, darken color on hover, fitted */\n",
              "#sk-container-id-1 div.sk-label.fitted:hover label.sk-toggleable__label.fitted {\n",
              "  color: var(--sklearn-color-text);\n",
              "  background-color: var(--sklearn-color-fitted-level-2);\n",
              "}\n",
              "\n",
              "/* Estimator label */\n",
              "\n",
              "#sk-container-id-1 div.sk-label label {\n",
              "  font-family: monospace;\n",
              "  font-weight: bold;\n",
              "  display: inline-block;\n",
              "  line-height: 1.2em;\n",
              "}\n",
              "\n",
              "#sk-container-id-1 div.sk-label-container {\n",
              "  text-align: center;\n",
              "}\n",
              "\n",
              "/* Estimator-specific */\n",
              "#sk-container-id-1 div.sk-estimator {\n",
              "  font-family: monospace;\n",
              "  border: 1px dotted var(--sklearn-color-border-box);\n",
              "  border-radius: 0.25em;\n",
              "  box-sizing: border-box;\n",
              "  margin-bottom: 0.5em;\n",
              "  /* unfitted */\n",
              "  background-color: var(--sklearn-color-unfitted-level-0);\n",
              "}\n",
              "\n",
              "#sk-container-id-1 div.sk-estimator.fitted {\n",
              "  /* fitted */\n",
              "  background-color: var(--sklearn-color-fitted-level-0);\n",
              "}\n",
              "\n",
              "/* on hover */\n",
              "#sk-container-id-1 div.sk-estimator:hover {\n",
              "  /* unfitted */\n",
              "  background-color: var(--sklearn-color-unfitted-level-2);\n",
              "}\n",
              "\n",
              "#sk-container-id-1 div.sk-estimator.fitted:hover {\n",
              "  /* fitted */\n",
              "  background-color: var(--sklearn-color-fitted-level-2);\n",
              "}\n",
              "\n",
              "/* Specification for estimator info (e.g. \"i\" and \"?\") */\n",
              "\n",
              "/* Common style for \"i\" and \"?\" */\n",
              "\n",
              ".sk-estimator-doc-link,\n",
              "a:link.sk-estimator-doc-link,\n",
              "a:visited.sk-estimator-doc-link {\n",
              "  float: right;\n",
              "  font-size: smaller;\n",
              "  line-height: 1em;\n",
              "  font-family: monospace;\n",
              "  background-color: var(--sklearn-color-background);\n",
              "  border-radius: 1em;\n",
              "  height: 1em;\n",
              "  width: 1em;\n",
              "  text-decoration: none !important;\n",
              "  margin-left: 0.5em;\n",
              "  text-align: center;\n",
              "  /* unfitted */\n",
              "  border: var(--sklearn-color-unfitted-level-1) 1pt solid;\n",
              "  color: var(--sklearn-color-unfitted-level-1);\n",
              "}\n",
              "\n",
              ".sk-estimator-doc-link.fitted,\n",
              "a:link.sk-estimator-doc-link.fitted,\n",
              "a:visited.sk-estimator-doc-link.fitted {\n",
              "  /* fitted */\n",
              "  border: var(--sklearn-color-fitted-level-1) 1pt solid;\n",
              "  color: var(--sklearn-color-fitted-level-1);\n",
              "}\n",
              "\n",
              "/* On hover */\n",
              "div.sk-estimator:hover .sk-estimator-doc-link:hover,\n",
              ".sk-estimator-doc-link:hover,\n",
              "div.sk-label-container:hover .sk-estimator-doc-link:hover,\n",
              ".sk-estimator-doc-link:hover {\n",
              "  /* unfitted */\n",
              "  background-color: var(--sklearn-color-unfitted-level-3);\n",
              "  color: var(--sklearn-color-background);\n",
              "  text-decoration: none;\n",
              "}\n",
              "\n",
              "div.sk-estimator.fitted:hover .sk-estimator-doc-link.fitted:hover,\n",
              ".sk-estimator-doc-link.fitted:hover,\n",
              "div.sk-label-container:hover .sk-estimator-doc-link.fitted:hover,\n",
              ".sk-estimator-doc-link.fitted:hover {\n",
              "  /* fitted */\n",
              "  background-color: var(--sklearn-color-fitted-level-3);\n",
              "  color: var(--sklearn-color-background);\n",
              "  text-decoration: none;\n",
              "}\n",
              "\n",
              "/* Span, style for the box shown on hovering the info icon */\n",
              ".sk-estimator-doc-link span {\n",
              "  display: none;\n",
              "  z-index: 9999;\n",
              "  position: relative;\n",
              "  font-weight: normal;\n",
              "  right: .2ex;\n",
              "  padding: .5ex;\n",
              "  margin: .5ex;\n",
              "  width: min-content;\n",
              "  min-width: 20ex;\n",
              "  max-width: 50ex;\n",
              "  color: var(--sklearn-color-text);\n",
              "  box-shadow: 2pt 2pt 4pt #999;\n",
              "  /* unfitted */\n",
              "  background: var(--sklearn-color-unfitted-level-0);\n",
              "  border: .5pt solid var(--sklearn-color-unfitted-level-3);\n",
              "}\n",
              "\n",
              ".sk-estimator-doc-link.fitted span {\n",
              "  /* fitted */\n",
              "  background: var(--sklearn-color-fitted-level-0);\n",
              "  border: var(--sklearn-color-fitted-level-3);\n",
              "}\n",
              "\n",
              ".sk-estimator-doc-link:hover span {\n",
              "  display: block;\n",
              "}\n",
              "\n",
              "/* \"?\"-specific style due to the `<a>` HTML tag */\n",
              "\n",
              "#sk-container-id-1 a.estimator_doc_link {\n",
              "  float: right;\n",
              "  font-size: 1rem;\n",
              "  line-height: 1em;\n",
              "  font-family: monospace;\n",
              "  background-color: var(--sklearn-color-background);\n",
              "  border-radius: 1rem;\n",
              "  height: 1rem;\n",
              "  width: 1rem;\n",
              "  text-decoration: none;\n",
              "  /* unfitted */\n",
              "  color: var(--sklearn-color-unfitted-level-1);\n",
              "  border: var(--sklearn-color-unfitted-level-1) 1pt solid;\n",
              "}\n",
              "\n",
              "#sk-container-id-1 a.estimator_doc_link.fitted {\n",
              "  /* fitted */\n",
              "  border: var(--sklearn-color-fitted-level-1) 1pt solid;\n",
              "  color: var(--sklearn-color-fitted-level-1);\n",
              "}\n",
              "\n",
              "/* On hover */\n",
              "#sk-container-id-1 a.estimator_doc_link:hover {\n",
              "  /* unfitted */\n",
              "  background-color: var(--sklearn-color-unfitted-level-3);\n",
              "  color: var(--sklearn-color-background);\n",
              "  text-decoration: none;\n",
              "}\n",
              "\n",
              "#sk-container-id-1 a.estimator_doc_link.fitted:hover {\n",
              "  /* fitted */\n",
              "  background-color: var(--sklearn-color-fitted-level-3);\n",
              "}\n",
              "</style><div id=\"sk-container-id-1\" class=\"sk-top-container\"><div class=\"sk-text-repr-fallback\"><pre>RandomForestClassifier(max_depth=15, n_estimators=200, random_state=42)</pre><b>In a Jupyter environment, please rerun this cell to show the HTML representation or trust the notebook. <br />On GitHub, the HTML representation is unable to render, please try loading this page with nbviewer.org.</b></div><div class=\"sk-container\" hidden><div class=\"sk-item\"><div class=\"sk-estimator fitted sk-toggleable\"><input class=\"sk-toggleable__control sk-hidden--visually\" id=\"sk-estimator-id-1\" type=\"checkbox\" checked><label for=\"sk-estimator-id-1\" class=\"sk-toggleable__label fitted sk-toggleable__label-arrow\"><div><div>RandomForestClassifier</div></div><div><a class=\"sk-estimator-doc-link fitted\" rel=\"noreferrer\" target=\"_blank\" href=\"https://scikit-learn.org/1.6/modules/generated/sklearn.ensemble.RandomForestClassifier.html\">?<span>Documentation for RandomForestClassifier</span></a><span class=\"sk-estimator-doc-link fitted\">i<span>Fitted</span></span></div></label><div class=\"sk-toggleable__content fitted\"><pre>RandomForestClassifier(max_depth=15, n_estimators=200, random_state=42)</pre></div> </div></div></div></div>"
            ]
          },
          "metadata": {},
          "execution_count": 38
        }
      ]
    },
    {
      "cell_type": "code",
      "source": [
        "# Make predictions on the test set\n",
        "y_pred = model.predict(X_test)"
      ],
      "metadata": {
        "id": "-zEhPw2NTKNA"
      },
      "execution_count": null,
      "outputs": []
    },
    {
      "cell_type": "code",
      "source": [
        "y_pred"
      ],
      "metadata": {
        "colab": {
          "base_uri": "https://localhost:8080/"
        },
        "id": "F-qFhODoTw8m",
        "outputId": "150177b6-3724-413f-b8ee-27c928e3b48f"
      },
      "execution_count": null,
      "outputs": [
        {
          "output_type": "execute_result",
          "data": {
            "text/plain": [
              "array([ 1,  1,  1, ...,  0,  0, -1])"
            ]
          },
          "metadata": {},
          "execution_count": 42
        }
      ]
    },
    {
      "cell_type": "code",
      "source": [
        "from sklearn.metrics import accuracy_score, classification_report, confusion_matrix\n",
        "\n",
        "# Log metrics for each class and accuracy\n",
        "accuracy = accuracy_score(y_test, y_pred)"
      ],
      "metadata": {
        "id": "UAkq5iM0TM0J"
      },
      "execution_count": null,
      "outputs": []
    },
    {
      "cell_type": "code",
      "source": [
        "accuracy"
      ],
      "metadata": {
        "colab": {
          "base_uri": "https://localhost:8080/"
        },
        "id": "w2bFz1bITvj1",
        "outputId": "42af24f8-b63a-4cad-b343-5a239ce9bc1a"
      },
      "execution_count": null,
      "outputs": [
        {
          "output_type": "execute_result",
          "data": {
            "text/plain": [
              "0.5882789664141715"
            ]
          },
          "metadata": {},
          "execution_count": 41
        }
      ]
    },
    {
      "cell_type": "code",
      "source": [
        "classification_rep = classification_report(y_test, y_pred, output_dict=True)"
      ],
      "metadata": {
        "id": "1pRv3ItgTO-5"
      },
      "execution_count": null,
      "outputs": []
    },
    {
      "cell_type": "code",
      "source": [
        "# Confusion matrix plot\n",
        "conf_matrix = confusion_matrix(y_test, y_pred)\n",
        "plt.figure(figsize=(5, 5))\n",
        "sns.heatmap(conf_matrix, annot=True, fmt=\"d\", cmap=\"Blues\")\n",
        "plt.xlabel(\"Predicted\")\n",
        "plt.ylabel(\"Actual\")\n",
        "plt.title(\"Confusion Matrix\")"
      ],
      "metadata": {
        "colab": {
          "base_uri": "https://localhost:8080/",
          "height": 504
        },
        "id": "soK4nE9aTPA5",
        "outputId": "dd051ede-a22b-4a5a-a140-41d95fd4df6c"
      },
      "execution_count": null,
      "outputs": [
        {
          "output_type": "execute_result",
          "data": {
            "text/plain": [
              "Text(0.5, 1.0, 'Confusion Matrix')"
            ]
          },
          "metadata": {},
          "execution_count": 47
        },
        {
          "output_type": "display_data",
          "data": {
            "text/plain": [
              "<Figure size 500x500 with 2 Axes>"
            ],
            "image/png": "[encoded data removed]"
          },
          "metadata": {}
        }
      ]
    },
    {
      "cell_type": "code",
      "source": [
        "print(classification_report(y_test, y_pred))"
      ],
      "metadata": {
        "colab": {
          "base_uri": "https://localhost:8080/"
        },
        "id": "dn_ULsQoTPDB",
        "outputId": "0131eafd-ea8c-4833-88a3-26be8b0f7e25"
      },
      "execution_count": null,
      "outputs": [
        {
          "output_type": "stream",
          "name": "stdout",
          "text": [
            "              precision    recall  f1-score   support\n",
            "\n",
            "          -1       0.54      0.65      0.59     65188\n",
            "           0       0.52      0.51      0.51     62131\n",
            "           1       0.73      0.60      0.66     65292\n",
            "\n",
            "    accuracy                           0.59    192611\n",
            "   macro avg       0.60      0.59      0.59    192611\n",
            "weighted avg       0.60      0.59      0.59    192611\n",
            "\n"
          ]
        }
      ]
    },
    {
      "cell_type": "code",
      "source": [],
      "metadata": {
        "id": "g4vs4sKMUeJ6"
      },
      "execution_count": null,
      "outputs": []
    },
    {
      "cell_type": "markdown",
      "source": [
        "##### Top 20 important features"
      ],
      "metadata": {
        "id": "AnYpKZDbUpKz"
      }
    },
    {
      "cell_type": "code",
      "source": [
        "max(list(model.feature_importances_))"
      ],
      "metadata": {
        "colab": {
          "base_uri": "https://localhost:8080/"
        },
        "id": "Gx5AYqKpUeMb",
        "outputId": "8a2bf7e0-df43-4e88-f553-d856872893e1"
      },
      "execution_count": null,
      "outputs": [
        {
          "output_type": "execute_result",
          "data": {
            "text/plain": [
              "np.float64(0.0736401502877998)"
            ]
          },
          "metadata": {},
          "execution_count": 50
        }
      ]
    },
    {
      "cell_type": "code",
      "source": [
        "import pandas as pd\n",
        "import matplotlib.pyplot as plt\n",
        "\n",
        "# Get feature importance scores\n",
        "importance = model.feature_importances_\n",
        "feature_names = vectorizer.get_feature_names_out()  # From CountVectorizer\n",
        "\n",
        "# Create a DataFrame for visualization\n",
        "df_importance = pd.DataFrame({\n",
        "    'Feature': feature_names,\n",
        "    'Importance': importance\n",
        "}).sort_values('Importance', ascending=False)\n",
        "\n",
        "# Plot top 20 important words\n",
        "plt.figure(figsize=(10, 6))\n",
        "plt.barh(df_importance['Feature'].head(20), df_importance['Importance'].head(20))\n",
        "plt.gca().invert_yaxis()  # Highest importance at top\n",
        "plt.title(\"Top 20 Important Features\")\n",
        "plt.show()"
      ],
      "metadata": {
        "colab": {
          "base_uri": "https://localhost:8080/",
          "height": 545
        },
        "id": "knlaPnP_UePS",
        "outputId": "2be386d2-63e7-4bd7-aef6-de400fd45010"
      },
      "execution_count": null,
      "outputs": [
        {
          "output_type": "display_data",
          "data": {
            "text/plain": [
              "<Figure size 1000x600 with 1 Axes>"
            ],
            "image/png": "[encoded data removed]"
          },
          "metadata": {}
        }
      ]
    },
    {
      "cell_type": "markdown",
      "source": [
        "####  Get the top 20 important features based on Sentiment"
      ],
      "metadata": {
        "id": "faWKthT0cbry"
      }
    },
    {
      "cell_type": "code",
      "source": [
        "# Get the top 20 important features\n",
        "top_20_features = df_importance['Feature'].head(20)\n",
        "\n",
        "# Create a DataFrame mapping words to average sentiment\n",
        "word_sentiment = pd.DataFrame({\n",
        "    'Word': top_20_features,\n",
        "    'Avg_Sentiment': [df[df['CommentText'].str.contains(word, case=False, regex=False)]['Sentiment'].mean()\n",
        "                      for word in top_20_features],\n",
        "    'Count': [df['CommentText'].str.contains(word, case=False, regex=False).sum()\n",
        "              for word in top_20_features]\n",
        "})\n",
        "\n",
        "# Display the table\n",
        "print(word_sentiment.sort_values('Avg_Sentiment', ascending=False))\n",
        "\n",
        "# Plot sentiment association\n",
        "plt.figure(figsize=(12, 8))\n",
        "bars = plt.barh(word_sentiment['Word'], word_sentiment['Avg_Sentiment'],\n",
        "               color=word_sentiment['Avg_Sentiment'].apply(\n",
        "                   lambda x: 'green' if x > 0.5 else 'red' if x < 0.5 else 'gray'))\n",
        "plt.title('Sentiment Association of Top 20 Important Words')\n",
        "plt.xlabel('Average Sentiment (1=Positive, 0=Negative)')\n",
        "plt.ylabel('Word')\n",
        "plt.xlim(0, 1)\n",
        "plt.grid(axis='x')\n",
        "\n",
        "# Add value labels\n",
        "for bar in bars:\n",
        "    width = bar.get_width()\n",
        "    plt.text(width, bar.get_y() + bar.get_height()/2,\n",
        "             f'{width:.2f}',\n",
        "             ha='left' if width < 0.5 else 'right',\n",
        "             va='center')\n",
        "\n",
        "plt.show()"
      ],
      "metadata": {
        "colab": {
          "base_uri": "https://localhost:8080/",
          "height": 886
        },
        "id": "Mj2wUmoJVIZW",
        "outputId": "da7ccf2c-7595-4948-a464-8c88cee87d68"
      },
      "execution_count": null,
      "outputs": [
        {
          "output_type": "stream",
          "name": "stdout",
          "text": [
            "           Word  Avg_Sentiment   Count\n",
            "333     awesome       0.832567    9347\n",
            "3609  red_heart       0.788793   37243\n",
            "476       bless       0.786975    8384\n",
            "4419      thank       0.769279   76222\n",
            "151     amazing       0.766373   13299\n",
            "4421     thanks       0.705215   32712\n",
            "2672       love       0.639123   40687\n",
            "438        best       0.602020   24255\n",
            "1933      great       0.560487   33073\n",
            "2917       much       0.389665   34776\n",
            "1899       good       0.327537   35425\n",
            "4735       very       0.159075   69967\n",
            "4976        you       0.156896  237743\n",
            "4060         so       0.015480  240631\n",
            "171         and       0.010634  295006\n",
            "2343         is      -0.062150  444151\n",
            "3009         no      -0.193191  240958\n",
            "3026        not      -0.296510  117055\n",
            "4439       they      -0.317073   70252\n",
            "4875        why      -0.421182   37371\n"
          ]
        },
        {
          "output_type": "display_data",
          "data": {
            "text/plain": [
              "<Figure size 1200x800 with 1 Axes>"
            ],
            "image/png": "[encoded data removed]"
          },
          "metadata": {}
        }
      ]
    }
  ]
}